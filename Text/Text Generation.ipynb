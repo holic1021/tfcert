{
 "cells": [
  {
   "cell_type": "code",
   "execution_count": 40,
   "id": "814c953a",
   "metadata": {},
   "outputs": [],
   "source": [
    "from tensorflow.keras.preprocessing.sequence import pad_sequences\n",
    "from tensorflow.keras.layers import Embedding, LSTM, Dense, Dropout, Bidirectional\n",
    "from tensorflow.keras.preprocessing.text import Tokenizer\n",
    "from tensorflow.keras.models import Sequential\n",
    "from tensorflow.keras.optimizers import Adam\n",
    "### YOUR CODE HERE\n",
    "from tensorflow.keras.regularizers import L1, L2, L1L2\n",
    "###\n",
    "import tensorflow.keras.utils as ku \n",
    "import numpy as np "
   ]
  },
  {
   "cell_type": "markdown",
   "id": "94f52760",
   "metadata": {},
   "source": [
    "# Data Processing\n",
    "## Import Data"
   ]
  },
  {
   "cell_type": "code",
   "execution_count": 41,
   "id": "2601a769",
   "metadata": {},
   "outputs": [
    {
     "name": "stdout",
     "output_type": "stream",
     "text": [
      "--2021-06-15 04:07:34--  https://storage.googleapis.com/laurencemoroney-blog.appspot.com/sonnets.txt\n",
      "Resolving storage.googleapis.com (storage.googleapis.com)... 173.194.192.128, 209.85.146.128, 142.250.125.128, ...\n",
      "Connecting to storage.googleapis.com (storage.googleapis.com)|173.194.192.128|:443... connected.\n",
      "HTTP request sent, awaiting response... 200 OK\n",
      "Length: 93578 (91K) [text/plain]\n",
      "Saving to: ‘/home/jupyter/+data/sonnets.txt’\n",
      "\n",
      "/home/jupyter/+data 100%[===================>]  91.38K  --.-KB/s    in 0.001s  \n",
      "\n",
      "2021-06-15 04:07:34 (93.3 MB/s) - ‘/home/jupyter/+data/sonnets.txt’ saved [93578/93578]\n",
      "\n"
     ]
    }
   ],
   "source": [
    "!wget https://storage.googleapis.com/laurencemoroney-blog.appspot.com/sonnets.txt \\\n",
    "    -O /home/jupyter/+data/sonnets.txt"
   ]
  },
  {
   "cell_type": "code",
   "execution_count": 42,
   "id": "d0e06f69",
   "metadata": {},
   "outputs": [],
   "source": [
    "data = open(\"/home/jupyter/+data/sonnets.txt\").read()\n",
    "corpus = data.lower().split(\"\\n\")"
   ]
  },
  {
   "cell_type": "markdown",
   "id": "c3212425",
   "metadata": {},
   "source": [
    "## Tokenize, n-gram and pad"
   ]
  },
  {
   "cell_type": "code",
   "execution_count": 43,
   "id": "c068ce7e",
   "metadata": {},
   "outputs": [],
   "source": [
    "tokenizer = Tokenizer()\n",
    "tokenizer.fit_on_texts(corpus)\n",
    "total_words = len(tokenizer.word_index) + 1"
   ]
  },
  {
   "cell_type": "code",
   "execution_count": 44,
   "id": "acb4ef55",
   "metadata": {},
   "outputs": [],
   "source": [
    "sequences = tokenizer.texts_to_sequences(corpus)\n",
    "n_gram = []\n",
    "for tokens in sequences:\n",
    "    for i in range(2, len(tokens)+1):\n",
    "        n_gram.append(tokens[:i])\n",
    "\n",
    "# pad sequence\n",
    "max_sequence_len = max(len(x) for x in n_gram)\n",
    "padded = pad_sequences(n_gram, maxlen=max_sequence_len)"
   ]
  },
  {
   "cell_type": "code",
   "execution_count": 45,
   "id": "3e5fc3ce",
   "metadata": {},
   "outputs": [],
   "source": [
    "x, y = padded[:,:-1], padded[:,-1]\n",
    "y = ku.to_categorical(y, num_classes=total_words)"
   ]
  },
  {
   "cell_type": "markdown",
   "id": "5a95bf9d",
   "metadata": {},
   "source": [
    "# Model"
   ]
  },
  {
   "cell_type": "code",
   "execution_count": 46,
   "id": "d2919878",
   "metadata": {},
   "outputs": [],
   "source": [
    "embedding_dim = 100"
   ]
  },
  {
   "cell_type": "code",
   "execution_count": 47,
   "id": "4e8988b3",
   "metadata": {},
   "outputs": [
    {
     "name": "stdout",
     "output_type": "stream",
     "text": [
      "Model: \"sequential_4\"\n",
      "_________________________________________________________________\n",
      "Layer (type)                 Output Shape              Param #   \n",
      "=================================================================\n",
      "embedding_5 (Embedding)      (None, 10, 100)           321100    \n",
      "_________________________________________________________________\n",
      "bidirectional_5 (Bidirection (None, 10, 300)           301200    \n",
      "_________________________________________________________________\n",
      "dropout_5 (Dropout)          (None, 10, 300)           0         \n",
      "_________________________________________________________________\n",
      "lstm_11 (LSTM)               (None, 100)               160400    \n",
      "_________________________________________________________________\n",
      "dense_8 (Dense)              (None, 1605)              162105    \n",
      "_________________________________________________________________\n",
      "dense_9 (Dense)              (None, 3211)              5156866   \n",
      "=================================================================\n",
      "Total params: 6,101,671\n",
      "Trainable params: 6,101,671\n",
      "Non-trainable params: 0\n",
      "_________________________________________________________________\n"
     ]
    }
   ],
   "source": [
    "model = Sequential([\n",
    "    Embedding(total_words, embedding_dim, input_length=max_sequence_len-1),\n",
    "    Bidirectional(LSTM(150, return_sequences=True)),\n",
    "    Dropout(0.2),\n",
    "    LSTM(100),\n",
    "    Dense(total_words//2, activation=\"relu\", kernel_regularizer=L1L2(l1=0.01)),\n",
    "    Dense(total_words, activation=\"softmax\")\n",
    "])\n",
    "model.summary()"
   ]
  },
  {
   "cell_type": "code",
   "execution_count": 18,
   "id": "f87fc867",
   "metadata": {},
   "outputs": [],
   "source": [
    "model.compile(optimizer=\"adam\", loss=\"categorical_crossentropy\", metrics=[\"acc\"])"
   ]
  },
  {
   "cell_type": "code",
   "execution_count": 19,
   "id": "a61e78a8",
   "metadata": {},
   "outputs": [
    {
     "name": "stdout",
     "output_type": "stream",
     "text": [
      "Epoch 1/100\n",
      "416/416 [==============================] - 8s 11ms/step - loss: 9.3656 - acc: 0.0262\n",
      "Epoch 2/100\n",
      "416/416 [==============================] - 5s 11ms/step - loss: 6.5137 - acc: 0.0259\n",
      "Epoch 3/100\n",
      "416/416 [==============================] - 5s 11ms/step - loss: 6.5054 - acc: 0.0247\n",
      "Epoch 4/100\n",
      "416/416 [==============================] - 5s 11ms/step - loss: 6.4999 - acc: 0.0267\n",
      "Epoch 5/100\n",
      "416/416 [==============================] - 5s 11ms/step - loss: 6.5054 - acc: 0.0256\n",
      "Epoch 6/100\n",
      "416/416 [==============================] - 5s 11ms/step - loss: 6.5126 - acc: 0.0256\n",
      "Epoch 7/100\n",
      "416/416 [==============================] - 5s 11ms/step - loss: 6.5055 - acc: 0.0238\n",
      "Epoch 8/100\n",
      "416/416 [==============================] - 5s 11ms/step - loss: 6.5154 - acc: 0.0249\n",
      "Epoch 9/100\n",
      "416/416 [==============================] - 5s 11ms/step - loss: 6.5098 - acc: 0.0260\n",
      "Epoch 10/100\n",
      "416/416 [==============================] - 5s 11ms/step - loss: 6.4808 - acc: 0.0246\n",
      "Epoch 11/100\n",
      "416/416 [==============================] - 5s 11ms/step - loss: 6.4468 - acc: 0.0246\n",
      "Epoch 12/100\n",
      "416/416 [==============================] - 5s 11ms/step - loss: 6.4061 - acc: 0.0292\n",
      "Epoch 13/100\n",
      "416/416 [==============================] - 5s 11ms/step - loss: 6.3583 - acc: 0.0330\n",
      "Epoch 14/100\n",
      "416/416 [==============================] - 5s 11ms/step - loss: 6.3032 - acc: 0.0365\n",
      "Epoch 15/100\n",
      "416/416 [==============================] - 5s 11ms/step - loss: 6.2519 - acc: 0.0363\n",
      "Epoch 16/100\n",
      "416/416 [==============================] - 5s 11ms/step - loss: 6.2270 - acc: 0.0353\n",
      "Epoch 17/100\n",
      "416/416 [==============================] - 5s 11ms/step - loss: 6.1982 - acc: 0.0344\n",
      "Epoch 18/100\n",
      "416/416 [==============================] - 5s 11ms/step - loss: 6.1772 - acc: 0.0349\n",
      "Epoch 19/100\n",
      "416/416 [==============================] - 5s 11ms/step - loss: 6.1627 - acc: 0.0370\n",
      "Epoch 20/100\n",
      "416/416 [==============================] - 5s 11ms/step - loss: 6.1442 - acc: 0.0351\n",
      "Epoch 21/100\n",
      "416/416 [==============================] - 5s 11ms/step - loss: 6.1313 - acc: 0.0377\n",
      "Epoch 22/100\n",
      "416/416 [==============================] - 5s 11ms/step - loss: 6.1219 - acc: 0.0389\n",
      "Epoch 23/100\n",
      "416/416 [==============================] - 5s 11ms/step - loss: 6.1065 - acc: 0.0397\n",
      "Epoch 24/100\n",
      "416/416 [==============================] - 5s 11ms/step - loss: 6.0916 - acc: 0.0386\n",
      "Epoch 25/100\n",
      "416/416 [==============================] - 5s 11ms/step - loss: 6.0853 - acc: 0.0387\n",
      "Epoch 26/100\n",
      "416/416 [==============================] - 5s 11ms/step - loss: 6.0680 - acc: 0.0383\n",
      "Epoch 27/100\n",
      "416/416 [==============================] - 5s 11ms/step - loss: 6.0557 - acc: 0.0388\n",
      "Epoch 28/100\n",
      "416/416 [==============================] - 5s 11ms/step - loss: 6.0335 - acc: 0.0398\n",
      "Epoch 29/100\n",
      "416/416 [==============================] - 5s 11ms/step - loss: 6.0131 - acc: 0.0410\n",
      "Epoch 30/100\n",
      "416/416 [==============================] - 5s 11ms/step - loss: 5.9926 - acc: 0.0414\n",
      "Epoch 31/100\n",
      "416/416 [==============================] - 5s 11ms/step - loss: 5.9730 - acc: 0.0431\n",
      "Epoch 32/100\n",
      "416/416 [==============================] - 5s 11ms/step - loss: 5.9538 - acc: 0.0420\n",
      "Epoch 33/100\n",
      "416/416 [==============================] - 5s 11ms/step - loss: 5.9372 - acc: 0.0424\n",
      "Epoch 34/100\n",
      "416/416 [==============================] - 5s 11ms/step - loss: 5.9175 - acc: 0.0427\n",
      "Epoch 35/100\n",
      "416/416 [==============================] - 5s 12ms/step - loss: 5.9064 - acc: 0.0439\n",
      "Epoch 36/100\n",
      "416/416 [==============================] - 5s 11ms/step - loss: 5.8895 - acc: 0.0444\n",
      "Epoch 37/100\n",
      "416/416 [==============================] - 5s 11ms/step - loss: 5.8798 - acc: 0.0441\n",
      "Epoch 38/100\n",
      "416/416 [==============================] - 5s 11ms/step - loss: 5.8562 - acc: 0.0467\n",
      "Epoch 39/100\n",
      "416/416 [==============================] - 5s 11ms/step - loss: 5.8380 - acc: 0.0516\n",
      "Epoch 40/100\n",
      "416/416 [==============================] - 5s 11ms/step - loss: 5.8186 - acc: 0.0529\n",
      "Epoch 41/100\n",
      "416/416 [==============================] - 5s 11ms/step - loss: 5.7980 - acc: 0.0559\n",
      "Epoch 42/100\n",
      "416/416 [==============================] - 5s 11ms/step - loss: 5.7700 - acc: 0.0570\n",
      "Epoch 43/100\n",
      "416/416 [==============================] - 5s 11ms/step - loss: 5.7433 - acc: 0.0593\n",
      "Epoch 44/100\n",
      "416/416 [==============================] - 5s 11ms/step - loss: 5.7311 - acc: 0.0616\n",
      "Epoch 45/100\n",
      "416/416 [==============================] - 5s 11ms/step - loss: 5.7011 - acc: 0.0618\n",
      "Epoch 46/100\n",
      "416/416 [==============================] - 5s 11ms/step - loss: 5.6847 - acc: 0.0666\n",
      "Epoch 47/100\n",
      "416/416 [==============================] - 5s 11ms/step - loss: 5.6607 - acc: 0.0655\n",
      "Epoch 48/100\n",
      "416/416 [==============================] - 5s 11ms/step - loss: 5.6433 - acc: 0.0685\n",
      "Epoch 49/100\n",
      "416/416 [==============================] - 5s 11ms/step - loss: 5.6310 - acc: 0.0686\n",
      "Epoch 50/100\n",
      "416/416 [==============================] - 5s 11ms/step - loss: 5.6084 - acc: 0.0693\n",
      "Epoch 51/100\n",
      "416/416 [==============================] - 4s 11ms/step - loss: 5.5759 - acc: 0.0706\n",
      "Epoch 52/100\n",
      "416/416 [==============================] - 5s 11ms/step - loss: 5.5543 - acc: 0.0733\n",
      "Epoch 53/100\n",
      "416/416 [==============================] - 5s 11ms/step - loss: 5.5297 - acc: 0.0742\n",
      "Epoch 54/100\n",
      "416/416 [==============================] - 5s 11ms/step - loss: 5.5091 - acc: 0.0749\n",
      "Epoch 55/100\n",
      "416/416 [==============================] - 5s 11ms/step - loss: 5.4930 - acc: 0.0761\n",
      "Epoch 56/100\n",
      "416/416 [==============================] - 5s 11ms/step - loss: 5.4623 - acc: 0.0806\n",
      "Epoch 57/100\n",
      "416/416 [==============================] - 5s 11ms/step - loss: 5.4360 - acc: 0.0815\n",
      "Epoch 58/100\n",
      "416/416 [==============================] - 5s 11ms/step - loss: 5.4128 - acc: 0.0839\n",
      "Epoch 59/100\n",
      "416/416 [==============================] - 5s 11ms/step - loss: 5.3987 - acc: 0.0836\n",
      "Epoch 60/100\n",
      "416/416 [==============================] - 5s 11ms/step - loss: 5.3754 - acc: 0.0845\n",
      "Epoch 61/100\n",
      "416/416 [==============================] - 5s 11ms/step - loss: 5.3512 - acc: 0.0885\n",
      "Epoch 62/100\n",
      "416/416 [==============================] - 5s 11ms/step - loss: 5.3285 - acc: 0.0881\n",
      "Epoch 63/100\n",
      "416/416 [==============================] - 5s 11ms/step - loss: 5.3078 - acc: 0.0915\n",
      "Epoch 64/100\n",
      "416/416 [==============================] - 5s 11ms/step - loss: 5.2960 - acc: 0.0932\n",
      "Epoch 65/100\n",
      "416/416 [==============================] - 5s 11ms/step - loss: 5.2718 - acc: 0.0947\n",
      "Epoch 66/100\n",
      "416/416 [==============================] - 4s 11ms/step - loss: 5.2355 - acc: 0.0954\n",
      "Epoch 67/100\n",
      "416/416 [==============================] - 5s 11ms/step - loss: 5.2179 - acc: 0.1009\n",
      "Epoch 68/100\n",
      "416/416 [==============================] - 5s 11ms/step - loss: 5.2092 - acc: 0.0994\n",
      "Epoch 69/100\n",
      "416/416 [==============================] - 5s 11ms/step - loss: 5.1949 - acc: 0.0993\n",
      "Epoch 70/100\n",
      "416/416 [==============================] - 5s 11ms/step - loss: 5.1678 - acc: 0.1030\n",
      "Epoch 71/100\n",
      "416/416 [==============================] - 5s 11ms/step - loss: 5.1380 - acc: 0.1038\n",
      "Epoch 72/100\n",
      "416/416 [==============================] - 5s 11ms/step - loss: 5.1128 - acc: 0.1089\n",
      "Epoch 73/100\n",
      "416/416 [==============================] - 5s 11ms/step - loss: 5.0971 - acc: 0.1123\n",
      "Epoch 74/100\n",
      "416/416 [==============================] - 5s 11ms/step - loss: 5.0767 - acc: 0.1145\n",
      "Epoch 75/100\n",
      "416/416 [==============================] - 5s 11ms/step - loss: 5.0540 - acc: 0.1134\n",
      "Epoch 76/100\n",
      "416/416 [==============================] - 5s 11ms/step - loss: 5.0281 - acc: 0.1166\n",
      "Epoch 77/100\n",
      "416/416 [==============================] - 5s 11ms/step - loss: 5.0092 - acc: 0.1179\n",
      "Epoch 78/100\n",
      "416/416 [==============================] - 5s 11ms/step - loss: 4.9884 - acc: 0.1207\n",
      "Epoch 79/100\n",
      "416/416 [==============================] - 5s 11ms/step - loss: 4.9627 - acc: 0.1214\n",
      "Epoch 80/100\n",
      "416/416 [==============================] - 4s 11ms/step - loss: 4.9386 - acc: 0.1240\n",
      "Epoch 81/100\n",
      "416/416 [==============================] - 5s 11ms/step - loss: 4.9259 - acc: 0.1288\n",
      "Epoch 82/100\n",
      "416/416 [==============================] - 5s 11ms/step - loss: 4.8964 - acc: 0.1317\n",
      "Epoch 83/100\n",
      "416/416 [==============================] - 5s 11ms/step - loss: 4.8744 - acc: 0.1332\n",
      "Epoch 84/100\n",
      "416/416 [==============================] - 4s 11ms/step - loss: 4.8665 - acc: 0.1350\n",
      "Epoch 85/100\n",
      "416/416 [==============================] - 4s 11ms/step - loss: 4.8531 - acc: 0.1357\n",
      "Epoch 86/100\n",
      "416/416 [==============================] - 5s 11ms/step - loss: 4.8146 - acc: 0.1396\n",
      "Epoch 87/100\n",
      "416/416 [==============================] - 4s 11ms/step - loss: 4.7876 - acc: 0.1441\n",
      "Epoch 88/100\n",
      "416/416 [==============================] - 5s 11ms/step - loss: 4.7744 - acc: 0.1448\n",
      "Epoch 89/100\n",
      "416/416 [==============================] - 4s 11ms/step - loss: 4.7622 - acc: 0.1464\n",
      "Epoch 90/100\n",
      "416/416 [==============================] - 5s 11ms/step - loss: 4.7409 - acc: 0.1498\n",
      "Epoch 91/100\n",
      "416/416 [==============================] - 5s 11ms/step - loss: 4.7201 - acc: 0.1498\n",
      "Epoch 92/100\n",
      "416/416 [==============================] - 4s 11ms/step - loss: 4.7008 - acc: 0.1523\n",
      "Epoch 93/100\n",
      "416/416 [==============================] - 5s 11ms/step - loss: 4.6792 - acc: 0.1619\n",
      "Epoch 94/100\n",
      "416/416 [==============================] - 4s 11ms/step - loss: 4.6609 - acc: 0.1584\n",
      "Epoch 95/100\n",
      "416/416 [==============================] - 5s 11ms/step - loss: 4.6329 - acc: 0.1638\n",
      "Epoch 96/100\n",
      "416/416 [==============================] - 5s 11ms/step - loss: 4.6159 - acc: 0.1655\n",
      "Epoch 97/100\n",
      "416/416 [==============================] - 5s 11ms/step - loss: 4.5861 - acc: 0.1695\n",
      "Epoch 98/100\n",
      "416/416 [==============================] - 5s 11ms/step - loss: 4.5610 - acc: 0.1748\n",
      "Epoch 99/100\n",
      "416/416 [==============================] - 5s 11ms/step - loss: 4.5600 - acc: 0.1733\n",
      "Epoch 100/100\n",
      "416/416 [==============================] - 5s 11ms/step - loss: 4.5364 - acc: 0.1758\n"
     ]
    }
   ],
   "source": [
    "history = model.fit(x, y, epochs=100)"
   ]
  },
  {
   "cell_type": "code",
   "execution_count": 39,
   "id": "6104d2c9",
   "metadata": {},
   "outputs": [
    {
     "name": "stdout",
     "output_type": "stream",
     "text": [
      "Help me Obi Wan Kenobi, you're my only hope the sweet love all the i love doth in thou wilt thou i i than then i am thou eye in the time to in thou i i love i in thy i love shall see thou than thou wilt thou wilt thou i and thou wilt all the i\n"
     ]
    }
   ],
   "source": [
    "seed_text = \"Help me Obi Wan Kenobi, you're my only hope\"\n",
    "next_words = 50\n",
    "\n",
    "reverse_index = {v:k for k, v in tokenizer.word_index.items()}\n",
    "\n",
    "for _ in range(next_words):\n",
    "    tokens = tokenizer.texts_to_sequences([seed_text])[0]\n",
    "    padded = pad_sequences([tokens], maxlen=max_sequence_len-1)\n",
    "    predicted = model.predict_classes(padded)\n",
    "    word = reverse_index[predicted[0]]\n",
    "    seed_text += \" \" + word\n",
    "print(seed_text)"
   ]
  },
  {
   "cell_type": "code",
   "execution_count": null,
   "id": "e6fee4f7",
   "metadata": {},
   "outputs": [],
   "source": []
  }
 ],
 "metadata": {
  "environment": {
   "name": "tf2-gpu.2-5.m71",
   "type": "gcloud",
   "uri": "gcr.io/deeplearning-platform-release/tf2-gpu.2-5:m71"
  },
  "kernelspec": {
   "display_name": "Python 3",
   "language": "python",
   "name": "python3"
  },
  "language_info": {
   "codemirror_mode": {
    "name": "ipython",
    "version": 3
   },
   "file_extension": ".py",
   "mimetype": "text/x-python",
   "name": "python",
   "nbconvert_exporter": "python",
   "pygments_lexer": "ipython3",
   "version": "3.7.10"
  }
 },
 "nbformat": 4,
 "nbformat_minor": 5
}
